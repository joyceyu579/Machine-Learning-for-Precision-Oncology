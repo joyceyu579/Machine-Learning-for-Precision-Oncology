{
 "cells": [
  {
   "cell_type": "code",
   "execution_count": 84,
   "id": "b59aadea",
   "metadata": {},
   "outputs": [],
   "source": [
    "import pandas as pd\n",
    "import numpy as np\n",
    "from sklearn.model_selection import train_test_split\n",
    "from sklearn.preprocessing import StandardScaler\n",
    "from tensorflow.keras.models import Sequential\n",
    "from tensorflow.keras.layers import Dense, Dropout\n",
    "from tensorflow.keras.optimizers import Adam"
   ]
  },
  {
   "cell_type": "code",
   "execution_count": 85,
   "id": "7d1d0a45",
   "metadata": {},
   "outputs": [
    {
     "name": "stderr",
     "output_type": "stream",
     "text": [
      "C:\\Users\\smcca\\AppData\\Local\\Temp\\ipykernel_7436\\2039065251.py:1: DtypeWarning: Columns (5,7,12,15,16,17,18,30,65,82,83,91,92,94,95,96,97,98,99,100,101,102,103,104,105,106,107) have mixed types. Specify dtype option on import or set low_memory=False.\n",
      "  data = pd.read_csv(\"final_merged.csv\")\n"
     ]
    }
   ],
   "source": [
    "data = pd.read_csv(\"final_merged.csv\")\n",
    "numeric_data = data.select_dtypes(include=['number'])"
   ]
  },
  {
   "cell_type": "code",
   "execution_count": 86,
   "id": "2ec916a3",
   "metadata": {},
   "outputs": [
    {
     "data": {
      "text/plain": [
       "Index(['Age', 'Surgery', 'Chemotherapy', 'Cohort', 'ER',\n",
       "       'Neoplasm Histologic Grade', 'HER2', 'Histologic type',\n",
       "       'Lymph nodes examined positive', 'Mutation Count',\n",
       "       'Nottingham prognostic index', 'Overall Survival (Months)', 'PR',\n",
       "       'Radio Therapy', 'Relapse Free Status (Months)', 'Tumor Size',\n",
       "       'T Stage', 'Days to MRI (From the Date of Diagnosis)', 'Manufacturer',\n",
       "       'Manufacturer Model Name', 'Scan Options', 'Field Strength (Tesla)',\n",
       "       'Patient Position During MRI', 'Contrast Agent',\n",
       "       'Contrast Bolus Volume (mL)', 'TR (Repetition Time)', 'TE (Echo Time)',\n",
       "       'Acquisition Matrix', 'Slice Thickness ', 'Rows', 'Columns',\n",
       "       'Reconstruction Diameter ', 'Flip Angle ',\n",
       "       'FOV Computed (Field of View) in cm ', 'Date of Birth (Days)',\n",
       "       'Menopause (at diagnosis)', 'Race and Ethnicity',\n",
       "       'Metastatic at Presentation (Outside of Lymph Nodes)', 'Mol Subtype',\n",
       "       'Oncotype score', 'Staging(Tumor Size)# [T]',\n",
       "       'Staging(Nodes)#(Nx replaced by -1)[N]',\n",
       "       'Staging(Metastasis)#(Mx -replaced by -1)[M]',\n",
       "       'Tumor Grade(T) (Tubule)', 'Tumor Grade(N)(Nuclear)',\n",
       "       'Tumor Grade(M)(Mitotic)', 'Nottingham grade',\n",
       "       'Multicentric/Multifocal', 'Contralateral Breast Involvement',\n",
       "       'Lymphadenopathy or Suspicious Nodes', 'Skin/Nipple Invovlement',\n",
       "       'Pec/Chest Involvement', 'Adjuvant Radiation Therapy',\n",
       "       'Clinical Response, Evaluated Through Imaging ',\n",
       "       'Pathologic Response to Neoadjuvant Therapy', 'Recurrence event(s)',\n",
       "       'Age at last contact in EMR f/u(days)(from the date of diagnosis) ,last time patient known to be alive, unless age of death is reported(in such case the age of death',\n",
       "       'Adjuvant Chemotherapy', 'Neoadjuvant Endocrine Therapy Medications ',\n",
       "       'Adjuvant Endocrine Therapy Medications ', 'Known Ovarian Status ',\n",
       "       'Therapeutic or Prophylactic Oophorectomy as part of Endocrine Therapy ',\n",
       "       'Neoadjuvant Anti-Her2 Neu Therapy', 'Adjuvant Anti-Her2 Neu Therapy ',\n",
       "       'Received Neoadjuvant Therapy or Not',\n",
       "       'Pathologic response to Neoadjuvant therapy: Pathologic stage (T) following neoadjuvant therapy ',\n",
       "       'Pathologic response to Neoadjuvant therapy:  Pathologic stage (N) following neoadjuvant therapy',\n",
       "       'Pathologic response to Neoadjuvant therapy:  Pathologic stage (M) following neoadjuvant therapy ',\n",
       "       'Overall Near-complete Response:  Stricter Definition',\n",
       "       'Overall Near-complete Response:  Looser Definition',\n",
       "       'Near-complete Response (Graded Measure)', 'Race', 'N Stage',\n",
       "       'Regional Node Examined', 'Reginol Node Positive', 'Survival Months'],\n",
       "      dtype='object')"
      ]
     },
     "execution_count": 86,
     "metadata": {},
     "output_type": "execute_result"
    }
   ],
   "source": [
    "numeric_data.columns"
   ]
  },
  {
   "cell_type": "code",
   "execution_count": 107,
   "id": "a408de15",
   "metadata": {},
   "outputs": [],
   "source": [
    "\n",
    "\n",
    "# Load your SEER dataset (already cleaned and preprocessed)\n",
    "\n",
    "\n",
    "# Select features and target\n",
    "# 1. Define the target\n",
    "data['survival_5yr'] = (data['Survival Months'] >= 60).astype(int)\n",
    "\n",
    "# 2. Drop target columns from features\n",
    "excluded = ['Survival Months', 'Vital Status', 'survival_5yr','Unnamed: 3']\n",
    "numeric_data = data.select_dtypes(include=['number'])\n",
    "#features = [col for col in numeric_data.columns if col not in excluded]\n",
    "features = numeric_data[['Age', 'Tumor Size', 'Regional Node Examined',\n",
    "       'Reginol Node Positive','Reginol Node Positive']]\n",
    "\n"
   ]
  },
  {
   "cell_type": "code",
   "execution_count": 108,
   "id": "485e0d14",
   "metadata": {},
   "outputs": [],
   "source": [
    "features = ['Age', 'Tumor Size', 'Regional Node Examined','Reginol Node Positive','N Stage','Radio Therapy','Race','Menopause (at diagnosis)','Chemotherapy',]"
   ]
  },
  {
   "cell_type": "code",
   "execution_count": null,
   "id": "db74b277",
   "metadata": {},
   "outputs": [
    {
     "name": "stdout",
     "output_type": "stream",
     "text": [
      "Epoch 1/300\n"
     ]
    },
    {
     "name": "stderr",
     "output_type": "stream",
     "text": [
      "c:\\Users\\smcca\\anaconda3\\Lib\\site-packages\\keras\\src\\layers\\core\\dense.py:87: UserWarning: Do not pass an `input_shape`/`input_dim` argument to a layer. When using Sequential models, prefer using an `Input(shape)` object as the first layer in the model instead.\n",
      "  super().__init__(activity_regularizer=activity_regularizer, **kwargs)\n"
     ]
    },
    {
     "name": "stdout",
     "output_type": "stream",
     "text": [
      "\u001b[1m48/48\u001b[0m \u001b[32m━━━━━━━━━━━━━━━━━━━━\u001b[0m\u001b[37m\u001b[0m \u001b[1m2s\u001b[0m 11ms/step - accuracy: 0.4472 - auc_7: 0.4915 - loss: 0.7465 - val_accuracy: 0.5308 - val_auc_7: 0.4996 - val_loss: 0.6931\n",
      "Epoch 2/300\n",
      "\u001b[1m48/48\u001b[0m \u001b[32m━━━━━━━━━━━━━━━━━━━━\u001b[0m\u001b[37m\u001b[0m \u001b[1m0s\u001b[0m 4ms/step - accuracy: 0.5355 - auc_7: 0.5533 - loss: 0.7054 - val_accuracy: 0.5718 - val_auc_7: 0.5311 - val_loss: 0.6868\n",
      "Epoch 3/300\n",
      "\u001b[1m48/48\u001b[0m \u001b[32m━━━━━━━━━━━━━━━━━━━━\u001b[0m\u001b[37m\u001b[0m \u001b[1m0s\u001b[0m 3ms/step - accuracy: 0.5099 - auc_7: 0.5181 - loss: 0.7060 - val_accuracy: 0.5513 - val_auc_7: 0.5374 - val_loss: 0.6868\n",
      "Epoch 4/300\n",
      "\u001b[1m48/48\u001b[0m \u001b[32m━━━━━━━━━━━━━━━━━━━━\u001b[0m\u001b[37m\u001b[0m \u001b[1m0s\u001b[0m 4ms/step - accuracy: 0.5142 - auc_7: 0.5146 - loss: 0.7059 - val_accuracy: 0.5191 - val_auc_7: 0.5511 - val_loss: 0.6914\n",
      "Epoch 5/300\n",
      "\u001b[1m48/48\u001b[0m \u001b[32m━━━━━━━━━━━━━━━━━━━━\u001b[0m\u001b[37m\u001b[0m \u001b[1m0s\u001b[0m 5ms/step - accuracy: 0.5131 - auc_7: 0.5599 - loss: 0.6961 - val_accuracy: 0.5748 - val_auc_7: 0.5488 - val_loss: 0.6874\n",
      "Epoch 6/300\n",
      "\u001b[1m48/48\u001b[0m \u001b[32m━━━━━━━━━━━━━━━━━━━━\u001b[0m\u001b[37m\u001b[0m \u001b[1m0s\u001b[0m 3ms/step - accuracy: 0.5484 - auc_7: 0.5740 - loss: 0.6957 - val_accuracy: 0.5718 - val_auc_7: 0.5458 - val_loss: 0.6869\n",
      "Epoch 7/300\n",
      "\u001b[1m48/48\u001b[0m \u001b[32m━━━━━━━━━━━━━━━━━━━━\u001b[0m\u001b[37m\u001b[0m \u001b[1m0s\u001b[0m 4ms/step - accuracy: 0.5770 - auc_7: 0.5763 - loss: 0.6814 - val_accuracy: 0.5660 - val_auc_7: 0.5347 - val_loss: 0.6806\n",
      "Epoch 8/300\n",
      "\u001b[1m48/48\u001b[0m \u001b[32m━━━━━━━━━━━━━━━━━━━━\u001b[0m\u001b[37m\u001b[0m \u001b[1m0s\u001b[0m 5ms/step - accuracy: 0.5653 - auc_7: 0.5945 - loss: 0.6816 - val_accuracy: 0.6070 - val_auc_7: 0.5382 - val_loss: 0.6801\n",
      "Epoch 9/300\n",
      "\u001b[1m48/48\u001b[0m \u001b[32m━━━━━━━━━━━━━━━━━━━━\u001b[0m\u001b[37m\u001b[0m \u001b[1m0s\u001b[0m 5ms/step - accuracy: 0.5561 - auc_7: 0.5852 - loss: 0.6864 - val_accuracy: 0.5396 - val_auc_7: 0.5248 - val_loss: 0.6842\n",
      "Epoch 10/300\n",
      "\u001b[1m48/48\u001b[0m \u001b[32m━━━━━━━━━━━━━━━━━━━━\u001b[0m\u001b[37m\u001b[0m \u001b[1m0s\u001b[0m 4ms/step - accuracy: 0.5618 - auc_7: 0.5733 - loss: 0.6808 - val_accuracy: 0.5513 - val_auc_7: 0.5376 - val_loss: 0.6828\n",
      "Epoch 11/300\n",
      "\u001b[1m48/48\u001b[0m \u001b[32m━━━━━━━━━━━━━━━━━━━━\u001b[0m\u001b[37m\u001b[0m \u001b[1m0s\u001b[0m 4ms/step - accuracy: 0.5546 - auc_7: 0.5892 - loss: 0.6818 - val_accuracy: 0.6070 - val_auc_7: 0.5343 - val_loss: 0.6723\n",
      "Epoch 12/300\n",
      "\u001b[1m48/48\u001b[0m \u001b[32m━━━━━━━━━━━━━━━━━━━━\u001b[0m\u001b[37m\u001b[0m \u001b[1m0s\u001b[0m 3ms/step - accuracy: 0.5848 - auc_7: 0.5956 - loss: 0.6797 - val_accuracy: 0.5748 - val_auc_7: 0.5379 - val_loss: 0.6767\n",
      "Epoch 13/300\n",
      "\u001b[1m48/48\u001b[0m \u001b[32m━━━━━━━━━━━━━━━━━━━━\u001b[0m\u001b[37m\u001b[0m \u001b[1m0s\u001b[0m 4ms/step - accuracy: 0.5600 - auc_7: 0.5905 - loss: 0.6729 - val_accuracy: 0.6188 - val_auc_7: 0.5539 - val_loss: 0.6723\n",
      "Epoch 14/300\n",
      "\u001b[1m48/48\u001b[0m \u001b[32m━━━━━━━━━━━━━━━━━━━━\u001b[0m\u001b[37m\u001b[0m \u001b[1m0s\u001b[0m 4ms/step - accuracy: 0.5728 - auc_7: 0.5948 - loss: 0.6726 - val_accuracy: 0.5836 - val_auc_7: 0.5560 - val_loss: 0.6741\n",
      "Epoch 15/300\n",
      "\u001b[1m48/48\u001b[0m \u001b[32m━━━━━━━━━━━━━━━━━━━━\u001b[0m\u001b[37m\u001b[0m \u001b[1m0s\u001b[0m 4ms/step - accuracy: 0.5745 - auc_7: 0.6149 - loss: 0.6733 - val_accuracy: 0.5953 - val_auc_7: 0.5527 - val_loss: 0.6698\n",
      "Epoch 16/300\n",
      "\u001b[1m48/48\u001b[0m \u001b[32m━━━━━━━━━━━━━━━━━━━━\u001b[0m\u001b[37m\u001b[0m \u001b[1m0s\u001b[0m 4ms/step - accuracy: 0.5934 - auc_7: 0.6296 - loss: 0.6589 - val_accuracy: 0.5601 - val_auc_7: 0.5509 - val_loss: 0.6858\n",
      "Epoch 17/300\n",
      "\u001b[1m48/48\u001b[0m \u001b[32m━━━━━━━━━━━━━━━━━━━━\u001b[0m\u001b[37m\u001b[0m \u001b[1m0s\u001b[0m 5ms/step - accuracy: 0.5503 - auc_7: 0.6157 - loss: 0.6675 - val_accuracy: 0.5748 - val_auc_7: 0.5516 - val_loss: 0.6809\n",
      "Epoch 18/300\n",
      "\u001b[1m48/48\u001b[0m \u001b[32m━━━━━━━━━━━━━━━━━━━━\u001b[0m\u001b[37m\u001b[0m \u001b[1m0s\u001b[0m 3ms/step - accuracy: 0.5993 - auc_7: 0.6262 - loss: 0.6602 - val_accuracy: 0.5748 - val_auc_7: 0.5518 - val_loss: 0.6812\n",
      "Epoch 19/300\n",
      "\u001b[1m48/48\u001b[0m \u001b[32m━━━━━━━━━━━━━━━━━━━━\u001b[0m\u001b[37m\u001b[0m \u001b[1m0s\u001b[0m 3ms/step - accuracy: 0.5737 - auc_7: 0.6216 - loss: 0.6693 - val_accuracy: 0.5894 - val_auc_7: 0.5509 - val_loss: 0.6740\n",
      "Epoch 20/300\n",
      "\u001b[1m48/48\u001b[0m \u001b[32m━━━━━━━━━━━━━━━━━━━━\u001b[0m\u001b[37m\u001b[0m \u001b[1m0s\u001b[0m 4ms/step - accuracy: 0.6029 - auc_7: 0.6335 - loss: 0.6581 - val_accuracy: 0.5806 - val_auc_7: 0.5480 - val_loss: 0.6826\n",
      "\u001b[1m27/27\u001b[0m \u001b[32m━━━━━━━━━━━━━━━━━━━━\u001b[0m\u001b[37m\u001b[0m \u001b[1m0s\u001b[0m 2ms/step - accuracy: 0.5746 - auc_7: 0.5586 - loss: 0.6742 \n",
      "Test accuracy: 0.59\n",
      "\u001b[1m27/27\u001b[0m \u001b[32m━━━━━━━━━━━━━━━━━━━━\u001b[0m\u001b[37m\u001b[0m \u001b[1m0s\u001b[0m 4ms/step\n"
     ]
    },
    {
     "data": {
      "image/png": "[encoded data removed]",
      "text/plain": [
       "<Figure size 500x500 with 1 Axes>"
      ]
     },
     "metadata": {},
     "output_type": "display_data"
    },
    {
     "name": "stdout",
     "output_type": "stream",
     "text": [
      "Classification Report:\n",
      "              precision    recall  f1-score   support\n",
      "\n",
      "           0       0.34      0.51      0.41       234\n",
      "           1       0.77      0.62      0.69       617\n",
      "\n",
      "    accuracy                           0.59       851\n",
      "   macro avg       0.56      0.57      0.55       851\n",
      "weighted avg       0.65      0.59      0.61       851\n",
      "\n"
     ]
    }
   ],
   "source": [
    "import numpy as np\n",
    "import pandas as pd\n",
    "import matplotlib.pyplot as plt\n",
    "import seaborn as sns\n",
    "\n",
    "from sklearn.model_selection import train_test_split\n",
    "from sklearn.preprocessing import StandardScaler\n",
    "from sklearn.utils.class_weight import compute_class_weight\n",
    "from sklearn.metrics import confusion_matrix, classification_report\n",
    "\n",
    "from tensorflow.keras.models import Sequential\n",
    "from tensorflow.keras.layers import Dense, Dropout, BatchNormalization\n",
    "from tensorflow.keras.optimizers import Adam\n",
    "from tensorflow.keras.callbacks import EarlyStopping\n",
    "from tensorflow.keras.metrics import AUC\n",
    "\n",
    "# --- Preprocessing ---\n",
    "\n",
    "# Prepare features and target\n",
    "X_df = data[features].copy()\n",
    "X_df['survival_5yr'] = data['survival_5yr']\n",
    "cleaned = X_df.dropna()\n",
    "\n",
    "X = cleaned.drop(columns='survival_5yr').values\n",
    "y = cleaned['survival_5yr'].values\n",
    "\n",
    "# Split into training and testing\n",
    "X_train, X_test, y_train, y_test = train_test_split(X, y, test_size=0.2, random_state=42)\n",
    "\n",
    "# Normalize AFTER split\n",
    "scaler = StandardScaler()\n",
    "X_train = scaler.fit_transform(X_train)\n",
    "X_test = scaler.transform(X_test)\n",
    "\n",
    "# Compute class weights\n",
    "class_weights = compute_class_weight(class_weight='balanced', classes=np.unique(y_train), y=y_train)\n",
    "class_weights = dict(enumerate(class_weights))\n",
    "\n",
    "\n",
    "\n",
    "# --- Model ---\n",
    "\n",
    "# Early stopping callback\n",
    "early_stop = EarlyStopping(monitor='val_loss', patience=5, restore_best_weights=True)\n",
    "\n",
    "# Build neural network\n",
    "model = Sequential([\n",
    "    Dense(64, input_dim=X_train.shape[1], activation='relu'),\n",
    "    BatchNormalization(),\n",
    "    Dropout(0.2),\n",
    "    Dense(32, activation='relu'),\n",
    "    BatchNormalization(),\n",
    "    Dense(16, activation='relu'),\n",
    "    Dense(1, activation='sigmoid') \n",
    "])\n",
    "\n",
    "# Compile\n",
    "model.compile(optimizer=Adam(learning_rate=0.001), \n",
    "              loss='binary_crossentropy', \n",
    "              metrics=['accuracy', AUC()])\n",
    "\n",
    "# Train\n",
    "history = model.fit(X_train, y_train, \n",
    "                    epochs=300, \n",
    "                    batch_size=64, \n",
    "                    validation_split=0.1, \n",
    "                    callbacks=[early_stop], \n",
    "                    class_weight=class_weights)\n",
    "\n",
    "# --- Evaluation ---\n",
    "\n",
    "loss, accuracy, auc = model.evaluate(X_test, y_test)\n",
    "print(f\"Test accuracy: {accuracy:.2f}\")\n",
    "\n",
    "# Predict\n",
    "y_pred_probs = model.predict(X_test)\n",
    "y_pred = (y_pred_probs > 0.5).astype(int).flatten()\n",
    "\n",
    "# Confusion matrix\n",
    "conf_matrix = confusion_matrix(y_test, y_pred)\n",
    "plt.figure(figsize=(5, 5))\n",
    "sns.heatmap(conf_matrix, annot=True, fmt='d', cmap='Blues', cbar=False)\n",
    "plt.xlabel('Predicted')\n",
    "plt.ylabel('Actual')\n",
    "plt.title('Confusion Matrix')\n",
    "plt.show()\n",
    "\n",
    "# Classification report\n",
    "print(\"Classification Report:\")\n",
    "print(classification_report(y_test, y_pred))\n"
   ]
  }
 ],
 "metadata": {
  "kernelspec": {
   "display_name": "base",
   "language": "python",
   "name": "python3"
  },
  "language_info": {
   "codemirror_mode": {
    "name": "ipython",
    "version": 3
   },
   "file_extension": ".py",
   "mimetype": "text/x-python",
   "name": "python",
   "nbconvert_exporter": "python",
   "pygments_lexer": "ipython3",
   "version": "3.12.7"
  }
 },
 "nbformat": 4,
 "nbformat_minor": 5
}
