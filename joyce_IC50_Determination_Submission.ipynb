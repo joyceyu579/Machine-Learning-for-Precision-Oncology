{
 "cells": [
  {
   "cell_type": "code",
   "execution_count": null,
   "id": "b4e0f05f-ebfb-406a-b977-e33e227733be",
   "metadata": {},
   "outputs": [],
   "source": [
    "import pandas as pd\n",
    "import matplotlib.pyplot as plt\n",
    "import numpy as np\n",
    "from scipy.optimize import curve_fit\n",
    "import warnings\n",
    "import math\n",
    "import seaborn as sns\n",
    "from IPython.display import display\n",
    "from scipy.optimize import curve_fit\n",
    "import warnings\n",
    "from typing import Tuple, Optional\n",
    "from tqdm import tqdm"
   ]
  },
  {
   "cell_type": "code",
   "execution_count": null,
   "id": "312663e1-f076-4c24-89d0-22c4cb26936a",
   "metadata": {},
   "outputs": [],
   "source": [
    "Harvard_df = pd.read_csv('data/HarvardDataSet.csv')"
   ]
  },
  {
   "cell_type": "code",
   "execution_count": null,
   "id": "25da61b0-b053-4186-aace-050408aaf935",
   "metadata": {},
   "outputs": [],
   "source": [
    "Harvard_subdf_IC50 = Harvard_df[[\"Cell Name\", \"Small Molecule Name\", \"Small Mol Concentration (uM)\", \"Mean Normalized Growth Rate Inhibition Value\"]]"
   ]
  },
  {
   "cell_type": "code",
   "execution_count": null,
   "id": "64c7622d-b7b7-4c66-9bf6-b7bd8be171cc",
   "metadata": {},
   "outputs": [],
   "source": [
    "class BatchEC50Calculator:\n",
    "    def __init__(self):\n",
    "        pass\n",
    "        \n",
    "    @staticmethod\n",
    "    def four_param_logistic(x, bottom, top, logEC50, hill_slope):\n",
    "        return bottom + (top - bottom) / (1 + 10**((logEC50 - np.log10(x)) * hill_slope))\n",
    "\n",
    "\n",
    "    def calculate_ec50_single(self, concentrations, responses):\n",
    "        concentrations = np.array(concentrations)\n",
    "        responses = np.array(responses)\n",
    "    \n",
    "        # Basic checks\n",
    "        if (len(concentrations) < 4\n",
    "            or np.any(np.isnan(concentrations))\n",
    "            or np.any(np.isnan(responses))\n",
    "            or np.any(concentrations <= 0)):  # log10 can't handle zero/negative\n",
    "            return None, [None] * 4\n",
    "    \n",
    "        log_med_conc = np.log10(np.median(concentrations))\n",
    "    \n",
    "        p0 = [min(responses), max(responses), log_med_conc, 1.0]\n",
    "\n",
    "        try:\n",
    "            popt, _ = curve_fit(\n",
    "                self.four_param_logistic,\n",
    "                concentrations,\n",
    "                responses,\n",
    "                p0=p0,\n",
    "                maxfev=10000)\n",
    "            # Validate popt (must be all real numbers)\n",
    "            if popt is None or any(np.isnan(popt)):\n",
    "                return None, [None] * 4\n",
    "\n",
    "            ec50 = 10 ** popt[2]  # Convert logEC50 to EC50\n",
    "        except (RuntimeError, ValueError, TypeError, OverflowError):\n",
    "            return None, [None] * 4\n",
    "    \n",
    "        return ec50, popt\n",
    "\n",
    "\n",
    "    def calculate_all_ec50(self, df, min_points = 4):\n",
    "        results = []\n",
    "\n",
    "        grouped = df.groupby([\"Cell Name\", \"Small Molecule Name\"])\n",
    "        print(f\"Total unique cell-drug pairs: {len(grouped)}\")\n",
    "\n",
    "        for (cell, drug), group in tqdm(grouped, desc=\"Fitting curves\"):\n",
    "            concentrations = group[\"Small Mol Concentration (uM)\"].values\n",
    "            responses = group[\"Mean Normalized Growth Rate Inhibition Value\"].values\n",
    "\n",
    "            # Drop NaNs or invalid values\n",
    "            mask = ~np.isnan(concentrations) & ~np.isnan(responses)\n",
    "            concentrations = concentrations[mask]\n",
    "            responses = responses[mask]\n",
    "\n",
    "            if len(concentrations) < min_points:\n",
    "                continue\n",
    "\n",
    "            ec50, _ = self.calculate_ec50_single(concentrations, responses)\n",
    "            results.append({\n",
    "                \"Cell Name\": cell,\n",
    "                \"Small Molecule Name\": drug,\n",
    "                \"EC50 (uM)\": ec50})\n",
    "\n",
    "        return pd.DataFrame(results)"
   ]
  },
  {
   "cell_type": "code",
   "execution_count": null,
   "id": "320a2b08-846d-4da9-b8d5-e4f7ca87ab9a",
   "metadata": {},
   "outputs": [],
   "source": [
    "Harvard_subdf_IC50[\"Cell Name\"] = Harvard_subdf_IC50[\"Cell Name\"].str.strip()\n",
    "Harvard_subdf_IC50[\"Small Molecule Name\"] = Harvard_subdf_IC50[\"Small Molecule Name\"].str.strip()\n",
    "\n",
    "print(\"Expected:\", 35 * 34)\n",
    "print(\"Actual:\", Harvard_subdf_IC50.groupby([\"Cell Name\", \"Small Molecule Name\"]).ngroups)"
   ]
  },
  {
   "cell_type": "code",
   "execution_count": null,
   "id": "2c92d46b-33d8-46ac-a75b-d2b871cd941d",
   "metadata": {},
   "outputs": [],
   "source": [
    "calculator = BatchEC50Calculator()\n",
    "ec50_results = calculator.calculate_all_ec50(Harvard_subdf_IC50)"
   ]
  },
  {
   "cell_type": "code",
   "execution_count": null,
   "id": "ba04d835-9825-4f9a-9cfd-d5b13356cf3e",
   "metadata": {},
   "outputs": [],
   "source": [
    "ec50_results"
   ]
  },
  {
   "cell_type": "code",
   "execution_count": null,
   "id": "4f676007-a767-4d4e-a652-6126aa32500c",
   "metadata": {},
   "outputs": [],
   "source": [
    "def plot_all_ic50_curves(df, calculator):\n",
    "    # Group the data by Cell Name and Small Molecule Name\n",
    "    grouped = df.groupby([\"Cell Name\", \"Small Molecule Name\"])\n",
    "\n",
    "    plot_dict = {}\n",
    "    \n",
    "    # Loop through each group\n",
    "    for (cell, drug), group in grouped:\n",
    "        concentrations = group[\"Small Mol Concentration (uM)\"].values\n",
    "        responses = group[\"Mean Normalized Growth Rate Inhibition Value\"].values\n",
    "    \n",
    "        # safety checks\n",
    "        if np.any(np.isnan(concentrations)) or np.any(np.isnan(responses)):\n",
    "            print(f\"Skipping {cell} - {drug}: NaNs in data.\")\n",
    "            continue\n",
    "    \n",
    "        ec50, popt = calculator.calculate_ec50_single(concentrations, responses)\n",
    "    \n",
    "        # check if fitting failed\n",
    "        if ec50 is None or popt is None or any(p is None for p in popt):\n",
    "            print(f\"Skipping {cell} - {drug}: invalid fit.\")\n",
    "            continue\n",
    "    \n",
    "        plot = plot_ic50_curve(\n",
    "            concentrations=concentrations,\n",
    "            responses=responses,\n",
    "            popt=popt,\n",
    "            title=f\"{cell} - {drug}\")\n",
    "    \n",
    "        plot_dict[(cell, drug)] = plot\n",
    "    return plot_dict\n",
    "\n",
    "def plot_ic50_curve(concentrations, responses, popt, title=\"\"):\n",
    "    concentrations = np.array(concentrations)\n",
    "    responses = np.array(responses)\n",
    "\n",
    "    # Generate smooth x-axis range from the minimum concentration\n",
    "    x_range = np.logspace(np.log10(min(concentrations)), np.log10(max(concentrations) * 10), 200)\n",
    "\n",
    "    # Predict curve from fitted parameters\n",
    "    y_fit = BatchEC50Calculator.four_param_logistic(x_range, *popt)\n",
    "\n",
    "    # Compute IC50\n",
    "    ec50 = 10 ** popt[2]\n",
    "\n",
    "    # Create a new figure and axis\n",
    "    fig, ax = plt.subplots(figsize=(7, 5))\n",
    "\n",
    "    # Plot the observed data\n",
    "    ax.semilogx(concentrations, responses, 'o', label='Observed Data')\n",
    "    ax.semilogx(x_range, y_fit, '-', label='Fitted Curve', color='blue')\n",
    "\n",
    "    # Plot IC50\n",
    "    ax.axvline(ec50, color='red', linestyle='--', label=f'IC50 ≈ {ec50:.3f} µM')\n",
    "\n",
    "    # Dynamically adjust the Y-axis range\n",
    "    y_min = min(responses) - 0.1\n",
    "    y_max = max(responses) + 0.1\n",
    "    ax.set_ylim([y_min, y_max])\n",
    "\n",
    "    # Labels and title\n",
    "    ax.set_xlabel(\"Concentration (µM)\")\n",
    "    ax.set_ylabel(\"Normalized Growth Rate Inhibition\")\n",
    "    ax.set_title(title)\n",
    "    ax.legend()\n",
    "\n",
    "    ax.grid(True, which='both', linestyle='--', linewidth=0.5)\n",
    "    fig.tight_layout()\n",
    "\n",
    "    return fig \n"
   ]
  },
  {
   "cell_type": "code",
   "execution_count": null,
   "id": "746c70ae-3959-48ec-a1d4-09a1130fbb96",
   "metadata": {
    "scrolled": true
   },
   "outputs": [],
   "source": [
    "# Example usage: Plot IC50 curves for all combinations\n",
    "calculator = BatchEC50Calculator() \n",
    "plot_dictionary = plot_all_ic50_curves(Harvard_subdf_IC50, calculator)"
   ]
  },
  {
   "cell_type": "code",
   "execution_count": null,
   "id": "41b6956b-9d94-4458-97bf-22edf352dd33",
   "metadata": {},
   "outputs": [],
   "source": [
    "plot_for_bt20_abemaciclib = plot_dictionary[(\"T47D\", \"Torin2\")]\n",
    "display(plot_for_bt20_abemaciclib)"
   ]
  },
  {
   "cell_type": "markdown",
   "id": "6935d10f-ca8b-41b8-a94e-86073ddefb2b",
   "metadata": {},
   "source": [
    "### Some IC50 values don't make sense because they are out of range and being extrapolated... need to filter those out. "
   ]
  },
  {
   "cell_type": "code",
   "execution_count": null,
   "id": "4e6b326d-ca80-45c6-9995-c48633e23235",
   "metadata": {},
   "outputs": [],
   "source": [
    "condition1 = (ec50_results[\"EC50 (uM)\"] < 10.0) & (ec50_results[\"EC50 (uM)\"] > 0.001000)\n",
    "IC50s_within_range = ec50_results[condition1]\n",
    "print(f\"Only {len(IC50s_within_range)} IC50 values are valid and within range of testing concentrations. This is ~{math.ceil(100*len(IC50s_within_range) / len(ec50_results))}% of the IC50 values.\")"
   ]
  },
  {
   "cell_type": "code",
   "execution_count": null,
   "id": "2d56cf2d-3dc0-4354-9a59-01c750e4e8ee",
   "metadata": {},
   "outputs": [],
   "source": [
    "condition2 = (ec50_results[\"EC50 (uM)\"] < 10.0)\n",
    "IC50s_less_than10 = ec50_results[condition2]\n",
    "\n",
    "print(f\"{len(IC50s_less_than10) - len(IC50s_within_range) } chemicals are extremely potent.\")"
   ]
  },
  {
   "cell_type": "code",
   "execution_count": null,
   "id": "a19215ab-421c-46cd-a820-8e1b71f62406",
   "metadata": {},
   "outputs": [],
   "source": [
    "extremely_potent = pd.concat([IC50s_less_than10, IC50s_within_range])\n",
    "extremely_potent = extremely_potent.drop_duplicates(keep=False)"
   ]
  },
  {
   "cell_type": "code",
   "execution_count": null,
   "id": "6090c681-8526-43c5-9727-75d3c94f6b61",
   "metadata": {},
   "outputs": [],
   "source": [
    "IC50s_within_range"
   ]
  },
  {
   "cell_type": "code",
   "execution_count": null,
   "id": "2e956941-4557-49af-b4b3-77d3b2c02c63",
   "metadata": {},
   "outputs": [],
   "source": [
    "pivot_table = IC50s_within_range.pivot_table(\n",
    "    index='Small Molecule Name',\n",
    "    columns='Cell Name',\n",
    "    values='EC50 (uM)')\n",
    "print(f\"NOTE: Those with NaN values were filtered out. Their IC50 values were out of range (i.e. extrapolated and estimated). Should be {1190-IC50s_within_range.shape[0]} NaN values.\")\n",
    "pivot_table"
   ]
  },
  {
   "cell_type": "code",
   "execution_count": null,
   "id": "099275e7-ab11-41d0-a761-bd8967cbb858",
   "metadata": {},
   "outputs": [],
   "source": [
    "pivot_table.isna().sum().sum() # Those with NaN values were filtered out. Their IC50 values could not be reliably calculated. "
   ]
  },
  {
   "cell_type": "code",
   "execution_count": null,
   "id": "3615803d-17d3-4f35-ad35-08bb6ea748f0",
   "metadata": {},
   "outputs": [],
   "source": [
    "idx = IC50s_within_range.groupby(\"Cell Name\")[\"EC50 (uM)\"].idxmin()\n",
    "lowest_ic50_per_cell = IC50s_within_range.loc[idx].reset_index(drop=True)\n",
    "lowest_ic50_per_cell"
   ]
  },
  {
   "cell_type": "code",
   "execution_count": null,
   "id": "00689e23-799e-44b6-aabd-4e7c226470bd",
   "metadata": {},
   "outputs": [],
   "source": [
    "def plot_ic50drugs_per_cell_line(df):\n",
    "    # Get unique cell lines and assign each to a number\n",
    "    cell_lines = df[\"Cell Name\"].unique()\n",
    "    cell_to_x = {cell: i for i, cell in enumerate(cell_lines)}\n",
    "\n",
    "    # Get unique drugs and assign a color to each\n",
    "    drugs = df[\"Small Molecule Name\"].unique()\n",
    "    palette = sns.color_palette(\"hsv\", len(drugs))  # Color palette for drugs\n",
    "    drug_to_color = {drug: palette[i] for i, drug in enumerate(drugs)}\n",
    "\n",
    "    plt.figure(figsize=(16, 7))\n",
    "\n",
    "    # Plot each point with color coding by drug\n",
    "    for _, row in df.iterrows():\n",
    "        x = cell_to_x[row[\"Cell Name\"]]\n",
    "        y = row[\"EC50 (uM)\"]\n",
    "        drug = row[\"Small Molecule Name\"]\n",
    "        color = drug_to_color[drug]\n",
    "\n",
    "        plt.scatter(x, y, color=color, s=30)\n",
    "\n",
    "    # Set x-axis labels\n",
    "    plt.xticks(ticks=range(len(cell_lines)), labels=cell_lines, rotation=90)\n",
    "\n",
    "    # Use log scale for y-axis (IC50 values)\n",
    "    plt.yscale(\"log\")\n",
    "    plt.ylabel(\"IC50 (uM) (log scale)\")\n",
    "    plt.xlabel(\"Cell Line\")\n",
    "    plt.title(\"Valid IC50 Values per Cell Line (Color-Coded by Drug)\")\n",
    "\n",
    "    # Legend for the drugs\n",
    "    handles = [plt.Line2D([0], [0], marker='o', color='w', label=drug, markerfacecolor=color, markersize=8) for drug, color in drug_to_color.items()]\n",
    "    plt.legend(handles=handles, title=\"Drug\", bbox_to_anchor=(1.05, 1), loc='upper left')\n",
    "    plt.grid(True, which=\"both\", linestyle=\"--\", linewidth=0.5)\n",
    "    plt.tight_layout()\n",
    "    plt.show()"
   ]
  },
  {
   "cell_type": "code",
   "execution_count": null,
   "id": "363076c1-6a28-42e8-a4a4-c9608a663d4c",
   "metadata": {},
   "outputs": [],
   "source": [
    "plot_ic50drugs_per_cell_line(IC50s_within_range)"
   ]
  },
  {
   "cell_type": "code",
   "execution_count": null,
   "id": "7c53f2ba-9b7b-4c16-bc50-65f134a2ef4c",
   "metadata": {},
   "outputs": [],
   "source": [
    "# Subframes by cell line with good IC50 values\n",
    "cell_line_subframes = {\n",
    "    cell: group.reset_index(drop=True)\n",
    "    for cell, group in IC50s_within_range.groupby(\"Cell Name\")}\n"
   ]
  },
  {
   "cell_type": "code",
   "execution_count": null,
   "id": "1878a797-9f23-4c6f-b364-8ef56fd38a78",
   "metadata": {},
   "outputs": [],
   "source": [
    "IC50s_within_range.to_csv(\"valid_IC50s_within_range.csv\")"
   ]
  },
  {
   "cell_type": "code",
   "execution_count": null,
   "id": "1f91579b-fbea-44ee-aeb2-2a6befeb3f73",
   "metadata": {},
   "outputs": [],
   "source": [
    "plot_for_bt20_abemaciclib = plot_dictionary[(\"T47D\", \"Torin2\")]\n",
    "display(plot_for_bt20_abemaciclib)"
   ]
  },
  {
   "cell_type": "code",
   "execution_count": null,
   "id": "ed6e8ba9-6eb9-4620-a40d-11bdc1d68b34",
   "metadata": {},
   "outputs": [],
   "source": [
    "plot_for_bt20_abemaciclib = plot_dictionary[(\"CAL-51\", \"Taxol\")]\n",
    "display(plot_for_bt20_abemaciclib)"
   ]
  },
  {
   "cell_type": "code",
   "execution_count": null,
   "id": "98b4837f-e70e-4ff8-9c41-ea296aa589d2",
   "metadata": {},
   "outputs": [],
   "source": [
    "plot_dictionary[(\"CAL-120\", \"AZD7762\")]"
   ]
  },
  {
   "cell_type": "code",
   "execution_count": null,
   "id": "4831730e-0141-442e-b7b3-97e321e8755d",
   "metadata": {},
   "outputs": [],
   "source": [
    "plot_dictionary[(\"HME1\", \"Ceritinib\")]"
   ]
  },
  {
   "cell_type": "code",
   "execution_count": null,
   "id": "4ef5e162-e0fb-4da9-9c0b-c39e23806f53",
   "metadata": {},
   "outputs": [],
   "source": []
  }
 ],
 "metadata": {
  "kernelspec": {
   "display_name": "Python 3 (ipykernel)",
   "language": "python",
   "name": "python3"
  },
  "language_info": {
   "codemirror_mode": {
    "name": "ipython",
    "version": 3
   },
   "file_extension": ".py",
   "mimetype": "text/x-python",
   "name": "python",
   "nbconvert_exporter": "python",
   "pygments_lexer": "ipython3",
   "version": "3.12.2"
  }
 },
 "nbformat": 4,
 "nbformat_minor": 5
}
